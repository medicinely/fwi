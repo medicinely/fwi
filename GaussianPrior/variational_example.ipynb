{
 "cells": [
  {
   "cell_type": "code",
   "execution_count": 3,
   "metadata": {},
   "outputs": [
    {
     "ename": "ModuleNotFoundError",
     "evalue": "No module named 'tensorflow'",
     "output_type": "error",
     "traceback": [
      "\u001b[0;31m---------------------------------------------------------------------------\u001b[0m",
      "\u001b[0;31mModuleNotFoundError\u001b[0m                       Traceback (most recent call last)",
      "\u001b[1;32m/home/yxie/phd/fwi/GaussianPrior/variational_example.ipynb Cell 1\u001b[0m in \u001b[0;36m<cell line: 1>\u001b[0;34m()\u001b[0m\n\u001b[0;32m----> <a href='vscode-notebook-cell://wsl%2Bubuntu-22.04/home/yxie/phd/fwi/GaussianPrior/variational_example.ipynb#W0sdnNjb2RlLXJlbW90ZQ%3D%3D?line=0'>1</a>\u001b[0m \u001b[39mimport\u001b[39;00m \u001b[39mtensorflow\u001b[39;00m \u001b[39mas\u001b[39;00m \u001b[39mtf\u001b[39;00m\n\u001b[1;32m      <a href='vscode-notebook-cell://wsl%2Bubuntu-22.04/home/yxie/phd/fwi/GaussianPrior/variational_example.ipynb#W0sdnNjb2RlLXJlbW90ZQ%3D%3D?line=1'>2</a>\u001b[0m \u001b[39mimport\u001b[39;00m \u001b[39mtensorflow_probability\u001b[39;00m \u001b[39mas\u001b[39;00m \u001b[39mtfp\u001b[39;00m\n\u001b[1;32m      <a href='vscode-notebook-cell://wsl%2Bubuntu-22.04/home/yxie/phd/fwi/GaussianPrior/variational_example.ipynb#W0sdnNjb2RlLXJlbW90ZQ%3D%3D?line=2'>3</a>\u001b[0m \u001b[39mimport\u001b[39;00m \u001b[39mnumpy\u001b[39;00m \u001b[39mas\u001b[39;00m \u001b[39mnp\u001b[39;00m\n",
      "\u001b[0;31mModuleNotFoundError\u001b[0m: No module named 'tensorflow'"
     ]
    }
   ],
   "source": [
    "import tensorflow as tf\n",
    "import tensorflow_probability as tfp\n",
    "import numpy as np\n",
    "import matplotlib.pyplot as plt\n",
    "from matplotlib.patches import Ellipse\n",
    "tfb = tfp.bijectors\n",
    "\n",
    "def plot_confidence_ellipses(multi_norm):\n",
    "    num_ellipse = multi_norm.mean().shape[0]\n",
    "    for i in range(num_ellipse):\n",
    "        mean = multi_norm.mean()[i]\n",
    "        cov_matrix = tf.linalg.diag(multi_norm.variance()[i]**2).numpy()\n",
    "        w, v = np.linalg.eig(cov_matrix)\n",
    "        angle = np.degrees(np.arctan2(v[1, 0], v[0, 0]))\n",
    "        ellipse = Ellipse(xy=mean, width=np.sqrt(w[0]), height=np.sqrt(w[1]), angle=angle, alpha=0.6)\n",
    "        plt.gca().add_artist(ellipse)\n",
    "        ellipse.set_facecolor('blue')\n",
    "        \n",
    "def plot_true_posterior(true_posterior):\n",
    "    # plt.gca().set_aspect('equal', 'box')\n",
    "    mean = true_posterior.mean()\n",
    "    cov_matrix = true_posterior.covariance().numpy()\n",
    "    w, v = np.linalg.eig(cov_matrix)\n",
    "    angle = np.degrees(np.arctan2(v[1, 0], v[0, 0]))\n",
    "    ellipse = Ellipse(xy=mean, width=np.sqrt(w[0]), height=np.sqrt(w[1]), angle=angle, alpha=0.6)\n",
    "    plt.gca().add_artist(ellipse)\n",
    "    ellipse.set_facecolor('red')"
   ]
  },
  {
   "cell_type": "code",
   "execution_count": null,
   "metadata": {},
   "outputs": [],
   "source": [
    "# Generate true posterior distribution\n",
    "true_mean = [1., -1.]\n",
    "true_cov = [[0.5, 0.3], [0.3, 0.5]]\n",
    "true_posterior = tfp.distributions.MultivariateNormalFullCovariance(\n",
    "    loc=true_mean,\n",
    "    covariance_matrix=true_cov\n",
    ")\n",
    "\n",
    "# Generate family of normal distributions to approximate posterior\n",
    "num_components = 20\n",
    "family_mean = tf.Variable(tf.random.normal([num_components, 2]))\n",
    "family_var = tfp.util.TransformedVariable(\n",
    "    tf.cast(tf.fill([num_components, 2], np.log(np.exp(1) - 1)), dtype=tf.float32),\n",
    "    tfb.Softplus()\n",
    ")\n",
    "# samples_before = family.sample(1000)\n",
    "family = tfp.distributions.MultivariateNormalDiag(\n",
    "    loc=family_mean,\n",
    "    scale_diag=family_var\n",
    ")"
   ]
  },
  {
   "cell_type": "code",
   "execution_count": 2,
   "metadata": {},
   "outputs": [
    {
     "ename": "NameError",
     "evalue": "name 'plt' is not defined",
     "output_type": "error",
     "traceback": [
      "\u001b[0;31m---------------------------------------------------------------------------\u001b[0m",
      "\u001b[0;31mNameError\u001b[0m                                 Traceback (most recent call last)",
      "\u001b[1;32m/home/yxie/phd/fwi/GaussianPrior/variational_example.ipynb Cell 3\u001b[0m in \u001b[0;36m<cell line: 2>\u001b[0;34m()\u001b[0m\n\u001b[1;32m      <a href='vscode-notebook-cell://wsl%2Bubuntu-22.04/home/yxie/phd/fwi/GaussianPrior/variational_example.ipynb#W2sdnNjb2RlLXJlbW90ZQ%3D%3D?line=0'>1</a>\u001b[0m \u001b[39m# Plot results\u001b[39;00m\n\u001b[0;32m----> <a href='vscode-notebook-cell://wsl%2Bubuntu-22.04/home/yxie/phd/fwi/GaussianPrior/variational_example.ipynb#W2sdnNjb2RlLXJlbW90ZQ%3D%3D?line=1'>2</a>\u001b[0m plt\u001b[39m.\u001b[39mfigure(figsize\u001b[39m=\u001b[39m(\u001b[39m12\u001b[39m, \u001b[39m8\u001b[39m),dpi\u001b[39m=\u001b[39m\u001b[39m100\u001b[39m)\n\u001b[1;32m      <a href='vscode-notebook-cell://wsl%2Bubuntu-22.04/home/yxie/phd/fwi/GaussianPrior/variational_example.ipynb#W2sdnNjb2RlLXJlbW90ZQ%3D%3D?line=3'>4</a>\u001b[0m \u001b[39m# Plot family samples before optimizing\u001b[39;00m\n\u001b[1;32m      <a href='vscode-notebook-cell://wsl%2Bubuntu-22.04/home/yxie/phd/fwi/GaussianPrior/variational_example.ipynb#W2sdnNjb2RlLXJlbW90ZQ%3D%3D?line=4'>5</a>\u001b[0m plt\u001b[39m.\u001b[39msubplot(\u001b[39m2\u001b[39m,\u001b[39m2\u001b[39m,\u001b[39m1\u001b[39m)\n",
      "\u001b[0;31mNameError\u001b[0m: name 'plt' is not defined"
     ]
    }
   ],
   "source": [
    "# Plot results\n",
    "plt.figure(figsize=(12, 8),dpi=100)\n",
    "\n",
    "# Plot family samples before optimizing\n",
    "plt.subplot(2,2,1)\n",
    "# plt.scatter(samples_before[:, 0], samples_before[:, 1])\n",
    "plot_confidence_ellipses(family)\n",
    "plot_true_posterior(true_posterior)\n",
    "# x, y = np.meshgrid(np.linspace(-2, 4, 100), np.linspace(-4, 2, 100))\n",
    "# xy = np.column_stack([x.flatten(), y.flatten()])\n",
    "# z = np.exp(true_posterior.log_prob(xy))\n",
    "# z = np.reshape(z, (100, 100))\n",
    "# plt.contour(x, y, z, colors='r')\n",
    "plt.xlim([-2, 4])\n",
    "plt.ylim([-4, 2])\n",
    "plt.title(\"Family Samples Before Optimizing\",fontsize=16)\n",
    "\n",
    "\n",
    "# Define loss function as KL divergence between true posterior and approximating family\n",
    "def kl_divergence(posterior, approximating_family):\n",
    "    return tfp.distributions.kl_divergence(posterior, approximating_family)\n",
    "\n",
    "# Optimize family parameters to minimize KL divergence\n",
    "num_iterations = 1000\n",
    "optimizer = tf.keras.optimizers.Adam(learning_rate=0.01)\n",
    "costs = []\n",
    "\n",
    "for i in range(num_iterations):\n",
    "    with tf.GradientTape() as tape:\n",
    "        cost = kl_divergence(true_posterior, family)\n",
    "        costs.append(cost)\n",
    "    gradients = tape.gradient(cost, [family_mean, family_var.trainable_variables[0]])\n",
    "    optimizer.apply_gradients(zip(gradients, [family_mean, family_var.trainable_variables[0]]))\n",
    "\n",
    "\n",
    "plt.subplot(2,2,2)\n",
    "# plt.scatter(samples_after[:, 0], samples_after[:, 1])\n",
    "plot_confidence_ellipses(family)\n",
    "plot_true_posterior(true_posterior)\n",
    "# plt.contour(x, y, z, colors='r')\n",
    "plt.xlim([-2, 4])\n",
    "plt.ylim([-4, 2])\n",
    "plt.title(\"Family Samples After Optimizing\",fontsize=16)\n",
    "\n",
    "# Plot trace of cost function after each iteration\n",
    "plt.subplot(2,2,3)\n",
    "plt.plot(range(num_iterations), costs)\n",
    "plt.xlabel(\"Iteration\",fontsize=14)\n",
    "plt.ylabel(\"Cost\",fontsize=14)\n",
    "plt.title(\"Trace of Cost Function %.2f\" % tf.reduce_mean(costs[-1]),fontsize=16)\n",
    "plt.show()"
   ]
  },
  {
   "cell_type": "code",
   "execution_count": null,
   "metadata": {},
   "outputs": [],
   "source": []
  }
 ],
 "metadata": {
  "kernelspec": {
   "display_name": "geostat",
   "language": "python",
   "name": "python3"
  },
  "language_info": {
   "codemirror_mode": {
    "name": "ipython",
    "version": 3
   },
   "file_extension": ".py",
   "mimetype": "text/x-python",
   "name": "python",
   "nbconvert_exporter": "python",
   "pygments_lexer": "ipython3",
   "version": "3.9.13"
  },
  "orig_nbformat": 4,
  "vscode": {
   "interpreter": {
    "hash": "6f74dcb7b58464c4cde6b16d7fbfe2b8d7beb532eb61e94171fcdd07e246a3d2"
   }
  }
 },
 "nbformat": 4,
 "nbformat_minor": 2
}
