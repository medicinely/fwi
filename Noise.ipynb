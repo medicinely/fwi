{
 "cells": [
  {
   "cell_type": "code",
   "execution_count": 20,
   "id": "622c717e",
   "metadata": {},
   "outputs": [],
   "source": [
    "from scipy.stats import chi2"
   ]
  },
  {
   "cell_type": "markdown",
   "id": "4ae8d563",
   "metadata": {},
   "source": [
    "Variance of the noise"
   ]
  },
  {
   "cell_type": "code",
   "execution_count": 25,
   "id": "8a47c9ad",
   "metadata": {},
   "outputs": [],
   "source": [
    "sigma2 = 0.01"
   ]
  },
  {
   "cell_type": "markdown",
   "id": "0e9ace5d",
   "metadata": {},
   "source": [
    "Number of data"
   ]
  },
  {
   "cell_type": "code",
   "execution_count": 26,
   "id": "e4cc60cc",
   "metadata": {},
   "outputs": [],
   "source": [
    "ndat = 4000"
   ]
  },
  {
   "cell_type": "markdown",
   "id": "ceb267dd",
   "metadata": {},
   "source": [
    "Probability to be lower than $x$"
   ]
  },
  {
   "cell_type": "code",
   "execution_count": 32,
   "id": "1daaa91e",
   "metadata": {},
   "outputs": [],
   "source": [
    "alpha = 0.95"
   ]
  },
  {
   "cell_type": "markdown",
   "id": "8283ff3c",
   "metadata": {},
   "source": [
    "The result of the following line computes $x$ such as\n",
    "\n",
    "$$P\\left(\\sum_{i=1}^n  r_i^2 < x\\right) = \\alpha$$\n",
    "\n",
    "when the residuals $r_i$ for the $n$ observations are only due to measurement error (no error on the velocity field) which has a variance $\\sigma^2$."
   ]
  },
  {
   "cell_type": "code",
   "execution_count": 35,
   "id": "749faa37",
   "metadata": {},
   "outputs": [
    {
     "data": {
      "text/plain": [
       "41.48248404431036"
      ]
     },
     "execution_count": 35,
     "metadata": {},
     "output_type": "execute_result"
    }
   ],
   "source": [
    "chi2.ppf(alpha, ndat, loc=0, scale=sigma2)"
   ]
  },
  {
   "cell_type": "code",
   "execution_count": null,
   "id": "026b5a4a",
   "metadata": {},
   "outputs": [],
   "source": []
  }
 ],
 "metadata": {
  "kernelspec": {
   "display_name": "Python 3 (ipykernel)",
   "language": "python",
   "name": "python3"
  },
  "language_info": {
   "codemirror_mode": {
    "name": "ipython",
    "version": 3
   },
   "file_extension": ".py",
   "mimetype": "text/x-python",
   "name": "python",
   "nbconvert_exporter": "python",
   "pygments_lexer": "ipython3",
   "version": "3.8.13"
  }
 },
 "nbformat": 4,
 "nbformat_minor": 5
}
